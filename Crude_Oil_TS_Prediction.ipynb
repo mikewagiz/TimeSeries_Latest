{
 "cells": [
  {
   "cell_type": "code",
   "execution_count": 1,
   "id": "fb5cc597",
   "metadata": {},
   "outputs": [],
   "source": [
    "import pandas as pd\n",
    "import matplotlib.pyplot as plt\n",
    "from statsmodels.tsa.arima_model import ARIMA\n",
    "import numpy as np\n",
    "from sklearn.metrics import *\n",
    "import warnings\n",
    "warnings.filterwarnings('ignore')"
   ]
  },
  {
   "cell_type": "code",
   "execution_count": 5,
   "id": "941329f4",
   "metadata": {},
   "outputs": [],
   "source": [
    "df = pd.read_csv('D:/oil_23.csv',parse_dates=True,index_col=['Years'])"
   ]
  },
  {
   "cell_type": "code",
   "execution_count": 6,
   "id": "1cc1e3ac",
   "metadata": {},
   "outputs": [
    {
     "data": {
      "text/html": [
       "<div>\n",
       "<style scoped>\n",
       "    .dataframe tbody tr th:only-of-type {\n",
       "        vertical-align: middle;\n",
       "    }\n",
       "\n",
       "    .dataframe tbody tr th {\n",
       "        vertical-align: top;\n",
       "    }\n",
       "\n",
       "    .dataframe thead th {\n",
       "        text-align: right;\n",
       "    }\n",
       "</style>\n",
       "<table border=\"1\" class=\"dataframe\">\n",
       "  <thead>\n",
       "    <tr style=\"text-align: right;\">\n",
       "      <th></th>\n",
       "      <th>Unnamed: 0</th>\n",
       "      <th>Unnamed: 2</th>\n",
       "      <th>Unnamed: 3</th>\n",
       "      <th>Unnamed: 4</th>\n",
       "      <th>Unnamed: 5</th>\n",
       "      <th>Unnamed: 6</th>\n",
       "      <th>Unnamed: 7</th>\n",
       "      <th>Unnamed: 8</th>\n",
       "      <th>Unnamed: 9</th>\n",
       "      <th>Unnamed: 10</th>\n",
       "      <th>...</th>\n",
       "      <th>Unnamed: 17</th>\n",
       "      <th>Unnamed: 18</th>\n",
       "      <th>Unnamed: 19</th>\n",
       "      <th>Unnamed: 20</th>\n",
       "      <th>Unnamed: 21</th>\n",
       "      <th>Unnamed: 22</th>\n",
       "      <th>Unnamed: 23</th>\n",
       "      <th>Unnamed: 24</th>\n",
       "      <th>Unnamed: 25</th>\n",
       "      <th>Crude_oil_production</th>\n",
       "    </tr>\n",
       "    <tr>\n",
       "      <th>Years</th>\n",
       "      <th></th>\n",
       "      <th></th>\n",
       "      <th></th>\n",
       "      <th></th>\n",
       "      <th></th>\n",
       "      <th></th>\n",
       "      <th></th>\n",
       "      <th></th>\n",
       "      <th></th>\n",
       "      <th></th>\n",
       "      <th></th>\n",
       "      <th></th>\n",
       "      <th></th>\n",
       "      <th></th>\n",
       "      <th></th>\n",
       "      <th></th>\n",
       "      <th></th>\n",
       "      <th></th>\n",
       "      <th></th>\n",
       "      <th></th>\n",
       "      <th></th>\n",
       "    </tr>\n",
       "  </thead>\n",
       "  <tbody>\n",
       "    <tr>\n",
       "      <th>1992-01-01</th>\n",
       "      <td>0</td>\n",
       "      <td>7171.000000</td>\n",
       "      <td>8332.000000</td>\n",
       "      <td>7632.000000</td>\n",
       "      <td>1605.000000</td>\n",
       "      <td>425.000000</td>\n",
       "      <td>3429.000000</td>\n",
       "      <td>2845.000000</td>\n",
       "      <td>2266.000000</td>\n",
       "      <td>626.000000</td>\n",
       "      <td>...</td>\n",
       "      <td>526.000000</td>\n",
       "      <td>1202.000000</td>\n",
       "      <td>2371.000000</td>\n",
       "      <td>1986.000000</td>\n",
       "      <td>1433.000000</td>\n",
       "      <td>746.000000</td>\n",
       "      <td>439.000000</td>\n",
       "      <td>1579.000000</td>\n",
       "      <td>895.000000</td>\n",
       "      <td>54177.00000</td>\n",
       "    </tr>\n",
       "    <tr>\n",
       "      <th>1993-01-01</th>\n",
       "      <td>1</td>\n",
       "      <td>6847.000000</td>\n",
       "      <td>8198.000000</td>\n",
       "      <td>6730.000000</td>\n",
       "      <td>1679.000000</td>\n",
       "      <td>512.000000</td>\n",
       "      <td>3540.000000</td>\n",
       "      <td>2890.000000</td>\n",
       "      <td>2159.000000</td>\n",
       "      <td>643.000000</td>\n",
       "      <td>...</td>\n",
       "      <td>509.000000</td>\n",
       "      <td>1167.000000</td>\n",
       "      <td>2450.000000</td>\n",
       "      <td>2084.000000</td>\n",
       "      <td>1361.000000</td>\n",
       "      <td>781.000000</td>\n",
       "      <td>461.000000</td>\n",
       "      <td>1589.000000</td>\n",
       "      <td>908.000000</td>\n",
       "      <td>54096.00000</td>\n",
       "    </tr>\n",
       "    <tr>\n",
       "      <th>1994-01-01</th>\n",
       "      <td>2</td>\n",
       "      <td>6661.627397</td>\n",
       "      <td>8119.873973</td>\n",
       "      <td>6135.084932</td>\n",
       "      <td>1746.194521</td>\n",
       "      <td>552.534247</td>\n",
       "      <td>3618.054795</td>\n",
       "      <td>2939.287671</td>\n",
       "      <td>2193.241096</td>\n",
       "      <td>671.424657</td>\n",
       "      <td>...</td>\n",
       "      <td>536.397260</td>\n",
       "      <td>1155.000000</td>\n",
       "      <td>2588.010959</td>\n",
       "      <td>2592.671233</td>\n",
       "      <td>1377.589041</td>\n",
       "      <td>816.246575</td>\n",
       "      <td>454.934247</td>\n",
       "      <td>1590.219178</td>\n",
       "      <td>913.805480</td>\n",
       "      <td>54799.96712</td>\n",
       "    </tr>\n",
       "    <tr>\n",
       "      <th>1995-01-01</th>\n",
       "      <td>3</td>\n",
       "      <td>6559.589041</td>\n",
       "      <td>8231.232877</td>\n",
       "      <td>5995.221918</td>\n",
       "      <td>1805.271233</td>\n",
       "      <td>560.000000</td>\n",
       "      <td>3643.219178</td>\n",
       "      <td>2990.049315</td>\n",
       "      <td>2232.649315</td>\n",
       "      <td>695.424657</td>\n",
       "      <td>...</td>\n",
       "      <td>646.232877</td>\n",
       "      <td>1161.794521</td>\n",
       "      <td>2750.136986</td>\n",
       "      <td>2755.764384</td>\n",
       "      <td>1390.000000</td>\n",
       "      <td>861.287671</td>\n",
       "      <td>589.798630</td>\n",
       "      <td>1578.684932</td>\n",
       "      <td>939.000000</td>\n",
       "      <td>55768.56028</td>\n",
       "    </tr>\n",
       "    <tr>\n",
       "      <th>1996-01-01</th>\n",
       "      <td>4</td>\n",
       "      <td>6464.557377</td>\n",
       "      <td>8218.117486</td>\n",
       "      <td>5849.874317</td>\n",
       "      <td>1836.674863</td>\n",
       "      <td>578.543716</td>\n",
       "      <td>3685.710383</td>\n",
       "      <td>3131.338798</td>\n",
       "      <td>2277.650273</td>\n",
       "      <td>795.002732</td>\n",
       "      <td>...</td>\n",
       "      <td>708.784153</td>\n",
       "      <td>1227.144809</td>\n",
       "      <td>2937.961749</td>\n",
       "      <td>2827.038251</td>\n",
       "      <td>1400.846995</td>\n",
       "      <td>893.387978</td>\n",
       "      <td>632.964481</td>\n",
       "      <td>1627.486339</td>\n",
       "      <td>942.666667</td>\n",
       "      <td>57100.21038</td>\n",
       "    </tr>\n",
       "  </tbody>\n",
       "</table>\n",
       "<p>5 rows × 26 columns</p>\n",
       "</div>"
      ],
      "text/plain": [
       "            Unnamed: 0   Unnamed: 2   Unnamed: 3   Unnamed: 4   Unnamed: 5  \\\n",
       "Years                                                                        \n",
       "1992-01-01           0  7171.000000  8332.000000  7632.000000  1605.000000   \n",
       "1993-01-01           1  6847.000000  8198.000000  6730.000000  1679.000000   \n",
       "1994-01-01           2  6661.627397  8119.873973  6135.084932  1746.194521   \n",
       "1995-01-01           3  6559.589041  8231.232877  5995.221918  1805.271233   \n",
       "1996-01-01           4  6464.557377  8218.117486  5849.874317  1836.674863   \n",
       "\n",
       "            Unnamed: 6   Unnamed: 7   Unnamed: 8   Unnamed: 9  Unnamed: 10  \\\n",
       "Years                                                                        \n",
       "1992-01-01  425.000000  3429.000000  2845.000000  2266.000000   626.000000   \n",
       "1993-01-01  512.000000  3540.000000  2890.000000  2159.000000   643.000000   \n",
       "1994-01-01  552.534247  3618.054795  2939.287671  2193.241096   671.424657   \n",
       "1995-01-01  560.000000  3643.219178  2990.049315  2232.649315   695.424657   \n",
       "1996-01-01  578.543716  3685.710383  3131.338798  2277.650273   795.002732   \n",
       "\n",
       "            ...  Unnamed: 17  Unnamed: 18  Unnamed: 19  Unnamed: 20  \\\n",
       "Years       ...                                                       \n",
       "1992-01-01  ...   526.000000  1202.000000  2371.000000  1986.000000   \n",
       "1993-01-01  ...   509.000000  1167.000000  2450.000000  2084.000000   \n",
       "1994-01-01  ...   536.397260  1155.000000  2588.010959  2592.671233   \n",
       "1995-01-01  ...   646.232877  1161.794521  2750.136986  2755.764384   \n",
       "1996-01-01  ...   708.784153  1227.144809  2937.961749  2827.038251   \n",
       "\n",
       "            Unnamed: 21  Unnamed: 22  Unnamed: 23  Unnamed: 24  Unnamed: 25  \\\n",
       "Years                                                                         \n",
       "1992-01-01  1433.000000   746.000000   439.000000  1579.000000   895.000000   \n",
       "1993-01-01  1361.000000   781.000000   461.000000  1589.000000   908.000000   \n",
       "1994-01-01  1377.589041   816.246575   454.934247  1590.219178   913.805480   \n",
       "1995-01-01  1390.000000   861.287671   589.798630  1578.684932   939.000000   \n",
       "1996-01-01  1400.846995   893.387978   632.964481  1627.486339   942.666667   \n",
       "\n",
       "            Crude_oil_production  \n",
       "Years                             \n",
       "1992-01-01           54177.00000  \n",
       "1993-01-01           54096.00000  \n",
       "1994-01-01           54799.96712  \n",
       "1995-01-01           55768.56028  \n",
       "1996-01-01           57100.21038  \n",
       "\n",
       "[5 rows x 26 columns]"
      ]
     },
     "execution_count": 6,
     "metadata": {},
     "output_type": "execute_result"
    }
   ],
   "source": [
    "df.head()"
   ]
  },
  {
   "cell_type": "code",
   "execution_count": 8,
   "id": "4e28d7fb",
   "metadata": {},
   "outputs": [
    {
     "data": {
      "text/plain": [
       "Index(['Unnamed: 0', 'Unnamed: 2', 'Unnamed: 3', 'Unnamed: 4', 'Unnamed: 5',\n",
       "       'Unnamed: 6', 'Unnamed: 7', 'Unnamed: 8', 'Unnamed: 9', 'Unnamed: 10',\n",
       "       'Unnamed: 11', 'Unnamed: 12', 'Unnamed: 13', 'Unnamed: 14',\n",
       "       'Unnamed: 15', 'Unnamed: 16', 'Unnamed: 17', 'Unnamed: 18',\n",
       "       'Unnamed: 19', 'Unnamed: 20', 'Unnamed: 21', 'Unnamed: 22',\n",
       "       'Unnamed: 23', 'Unnamed: 24', 'Unnamed: 25', 'Crude_oil_production'],\n",
       "      dtype='object')"
      ]
     },
     "execution_count": 8,
     "metadata": {},
     "output_type": "execute_result"
    }
   ],
   "source": [
    "df.columns"
   ]
  },
  {
   "cell_type": "code",
   "execution_count": 9,
   "id": "2bfbe359",
   "metadata": {},
   "outputs": [],
   "source": [
    "df.drop(columns={'Unnamed: 0', 'Unnamed: 2', 'Unnamed: 3', 'Unnamed: 4', 'Unnamed: 5',\n",
    "       'Unnamed: 6', 'Unnamed: 7', 'Unnamed: 8', 'Unnamed: 9', 'Unnamed: 10',\n",
    "       'Unnamed: 11', 'Unnamed: 12', 'Unnamed: 13', 'Unnamed: 14',\n",
    "       'Unnamed: 15', 'Unnamed: 16', 'Unnamed: 17', 'Unnamed: 18',\n",
    "       'Unnamed: 19', 'Unnamed: 20', 'Unnamed: 21', 'Unnamed: 22',\n",
    "       'Unnamed: 23', 'Unnamed: 24', 'Unnamed: 25'},inplace=True)"
   ]
  },
  {
   "cell_type": "code",
   "execution_count": 18,
   "id": "2e000427",
   "metadata": {},
   "outputs": [],
   "source": [
    "ts = df.Crude_oil_production.resample('A').sum()"
   ]
  },
  {
   "cell_type": "code",
   "execution_count": 19,
   "id": "2bdbbccc",
   "metadata": {},
   "outputs": [
    {
     "data": {
      "text/plain": [
       "Years\n",
       "1992-12-31    54177.00000\n",
       "1993-12-31    54096.00000\n",
       "1994-12-31    54799.96712\n",
       "1995-12-31    55768.56028\n",
       "1996-12-31    57100.21038\n",
       "1997-12-31    58789.44521\n",
       "1998-12-31    59883.63836\n",
       "1999-12-31    58741.62466\n",
       "2000-12-31    60886.07310\n",
       "2001-12-31    60583.21048\n",
       "2002-12-31    59636.98099\n",
       "2003-12-31    61772.76766\n",
       "2004-12-31    64327.61919\n",
       "2005-12-31    65529.73133\n",
       "2006-12-31    65143.11710\n",
       "2007-12-31    64855.93157\n",
       "2008-12-31    65908.77204\n",
       "2009-12-31    64745.25549\n",
       "2010-12-31    66476.93936\n",
       "2011-12-31    66841.59575\n",
       "2012-12-31    68980.68429\n",
       "2013-12-31    69216.81855\n",
       "2014-12-31    71099.35354\n",
       "2015-12-31    73513.12443\n",
       "2016-12-31    73985.22287\n",
       "2017-12-31    74455.55364\n",
       "2018-12-31    76231.36896\n",
       "Freq: A-DEC, Name: Crude_oil_production, dtype: float64"
      ]
     },
     "execution_count": 19,
     "metadata": {},
     "output_type": "execute_result"
    }
   ],
   "source": [
    "ts"
   ]
  },
  {
   "cell_type": "code",
   "execution_count": 21,
   "id": "07c39fce",
   "metadata": {},
   "outputs": [
    {
     "data": {
      "image/png": "[encoded data removed]",
      "text/plain": [
       "<Figure size 576x360 with 1 Axes>"
      ]
     },
     "metadata": {
      "needs_background": "light"
     },
     "output_type": "display_data"
    }
   ],
   "source": [
    "#Checking for stationarity\n",
    "plt.figure(figsize=(8,5))\n",
    "ts.plot()\n",
    "plt.show()"
   ]
  },
  {
   "cell_type": "code",
   "execution_count": 22,
   "id": "1042752f",
   "metadata": {},
   "outputs": [
    {
     "data": {
      "text/plain": [
       "<Figure size 1440x288 with 0 Axes>"
      ]
     },
     "metadata": {},
     "output_type": "display_data"
    },
    {
     "data": {
      "image/png": "[encoded data removed]",
      "text/plain": [
       "<Figure size 432x288 with 4 Axes>"
      ]
     },
     "metadata": {
      "needs_background": "light"
     },
     "output_type": "display_data"
    }
   ],
   "source": [
    "import statsmodels.api as sm\n",
    "plt.figure(figsize=(20,4))\n",
    "decomposition = sm.tsa.seasonal_decompose(ts,model='additive')\n",
    "decomposition.plot()\n",
    "plt.show()"
   ]
  },
  {
   "cell_type": "code",
   "execution_count": 25,
   "id": "5fc7a59d",
   "metadata": {},
   "outputs": [
    {
     "data": {
      "text/plain": [
       "Years\n",
       "1993-12-31     -81.00000\n",
       "1994-12-31     703.96712\n",
       "1995-12-31     968.59316\n",
       "1996-12-31    1331.65010\n",
       "1997-12-31    1689.23483\n",
       "1998-12-31    1094.19315\n",
       "1999-12-31   -1142.01370\n",
       "2000-12-31    2144.44844\n",
       "2001-12-31    -302.86262\n",
       "2002-12-31    -946.22949\n",
       "2003-12-31    2135.78667\n",
       "2004-12-31    2554.85153\n",
       "2005-12-31    1202.11214\n",
       "2006-12-31    -386.61423\n",
       "2007-12-31    -287.18553\n",
       "2008-12-31    1052.84047\n",
       "2009-12-31   -1163.51655\n",
       "2010-12-31    1731.68387\n",
       "2011-12-31     364.65639\n",
       "2012-12-31    2139.08854\n",
       "2013-12-31     236.13426\n",
       "2014-12-31    1882.53499\n",
       "2015-12-31    2413.77089\n",
       "2016-12-31     472.09844\n",
       "2017-12-31     470.33077\n",
       "2018-12-31    1775.81532\n",
       "Freq: A-DEC, Name: Crude_oil_production, dtype: float64"
      ]
     },
     "execution_count": 25,
     "metadata": {},
     "output_type": "execute_result"
    }
   ],
   "source": [
    "#Differencing the timeseries\n",
    "df_diff = ts.diff(periods=1).dropna()\n",
    "df_diff"
   ]
  },
  {
   "cell_type": "code",
   "execution_count": 26,
   "id": "706f4cbd",
   "metadata": {},
   "outputs": [
    {
     "data": {
      "text/plain": [
       "<AxesSubplot:xlabel='Years'>"
      ]
     },
     "execution_count": 26,
     "metadata": {},
     "output_type": "execute_result"
    },
    {
     "data": {
      "image/png": "[encoded data removed]",
      "text/plain": [
       "<Figure size 432x288 with 1 Axes>"
      ]
     },
     "metadata": {
      "needs_background": "light"
     },
     "output_type": "display_data"
    }
   ],
   "source": [
    "#Visualization of the visualization\n",
    "df_diff.plot()"
   ]
  },
  {
   "cell_type": "code",
   "execution_count": 28,
   "id": "bd7822ee",
   "metadata": {},
   "outputs": [],
   "source": [
    "df_diff_2 = df_diff.diff(periods=2).dropna()"
   ]
  },
  {
   "cell_type": "code",
   "execution_count": 29,
   "id": "2155fbf5",
   "metadata": {},
   "outputs": [
    {
     "data": {
      "text/plain": [
       "Years\n",
       "1995-12-31    1049.59316\n",
       "1996-12-31     627.68298\n",
       "1997-12-31     720.64167\n",
       "1998-12-31    -237.45695\n",
       "1999-12-31   -2831.24853\n",
       "2000-12-31    1050.25529\n",
       "2001-12-31     839.15108\n",
       "2002-12-31   -3090.67793\n",
       "2003-12-31    2438.64929\n",
       "2004-12-31    3501.08102\n",
       "2005-12-31    -933.67453\n",
       "2006-12-31   -2941.46576\n",
       "2007-12-31   -1489.29767\n",
       "2008-12-31    1439.45470\n",
       "2009-12-31    -876.33102\n",
       "2010-12-31     678.84340\n",
       "2011-12-31    1528.17294\n",
       "2012-12-31     407.40467\n",
       "2013-12-31    -128.52213\n",
       "2014-12-31    -256.55355\n",
       "2015-12-31    2177.63663\n",
       "2016-12-31   -1410.43655\n",
       "2017-12-31   -1943.44012\n",
       "2018-12-31    1303.71688\n",
       "Freq: A-DEC, Name: Crude_oil_production, dtype: float64"
      ]
     },
     "execution_count": 29,
     "metadata": {},
     "output_type": "execute_result"
    }
   ],
   "source": [
    "df_diff_2"
   ]
  },
  {
   "cell_type": "code",
   "execution_count": 30,
   "id": "01b003bb",
   "metadata": {},
   "outputs": [
    {
     "data": {
      "text/plain": [
       "<AxesSubplot:xlabel='Years'>"
      ]
     },
     "execution_count": 30,
     "metadata": {},
     "output_type": "execute_result"
    },
    {
     "data": {
      "image/png": "[encoded data removed]",
      "text/plain": [
       "<Figure size 432x288 with 1 Axes>"
      ]
     },
     "metadata": {
      "needs_background": "light"
     },
     "output_type": "display_data"
    }
   ],
   "source": [
    "df_diff_2.plot()"
   ]
  },
  {
   "cell_type": "code",
   "execution_count": 32,
   "id": "07aeecc3",
   "metadata": {},
   "outputs": [
    {
     "data": {
      "image/png": "[encoded data removed]",
      "text/plain": [
       "<Figure size 432x288 with 1 Axes>"
      ]
     },
     "execution_count": 32,
     "metadata": {},
     "output_type": "execute_result"
    },
    {
     "data": {
      "image/png": "[encoded data removed]",
      "text/plain": [
       "<Figure size 432x288 with 1 Axes>"
      ]
     },
     "metadata": {
      "needs_background": "light"
     },
     "output_type": "display_data"
    }
   ],
   "source": [
    "#ACF and PACF plots for first differencing\n",
    "from statsmodels.graphics.tsaplots import plot_acf,plot_pacf\n",
    "plot_acf(df_diff,lags=20)"
   ]
  },
  {
   "cell_type": "code",
   "execution_count": 35,
   "id": "1ee7edd8",
   "metadata": {},
   "outputs": [
    {
     "data": {
      "image/png": "[encoded data removed]",
      "text/plain": [
       "<Figure size 432x288 with 1 Axes>"
      ]
     },
     "execution_count": 35,
     "metadata": {},
     "output_type": "execute_result"
    },
    {
     "data": {
      "image/png": "[encoded data removed]",
      "text/plain": [
       "<Figure size 432x288 with 1 Axes>"
      ]
     },
     "metadata": {
      "needs_background": "light"
     },
     "output_type": "display_data"
    }
   ],
   "source": [
    "plot_pacf(df_diff,lags=10)"
   ]
  },
  {
   "cell_type": "code",
   "execution_count": 36,
   "id": "a9560a94",
   "metadata": {},
   "outputs": [
    {
     "data": {
      "image/png": "[encoded data removed]",
      "text/plain": [
       "<Figure size 432x288 with 1 Axes>"
      ]
     },
     "execution_count": 36,
     "metadata": {},
     "output_type": "execute_result"
    },
    {
     "data": {
      "image/png": "[encoded data removed]",
      "text/plain": [
       "<Figure size 432x288 with 1 Axes>"
      ]
     },
     "metadata": {
      "needs_background": "light"
     },
     "output_type": "display_data"
    }
   ],
   "source": [
    "plot_acf(df_diff_2,lags=20)"
   ]
  },
  {
   "cell_type": "code",
   "execution_count": 38,
   "id": "9dc2bb89",
   "metadata": {},
   "outputs": [
    {
     "data": {
      "image/png": "[encoded data removed]",
      "text/plain": [
       "<Figure size 432x288 with 1 Axes>"
      ]
     },
     "execution_count": 38,
     "metadata": {},
     "output_type": "execute_result"
    },
    {
     "data": {
      "image/png": "[encoded data removed]",
      "text/plain": [
       "<Figure size 432x288 with 1 Axes>"
      ]
     },
     "metadata": {
      "needs_background": "light"
     },
     "output_type": "display_data"
    }
   ],
   "source": [
    "plot_pacf(df_diff_2,lags=10)"
   ]
  },
  {
   "cell_type": "code",
   "execution_count": 43,
   "id": "669cb7f1",
   "metadata": {},
   "outputs": [
    {
     "data": {
      "text/plain": [
       "27"
      ]
     },
     "execution_count": 43,
     "metadata": {},
     "output_type": "execute_result"
    }
   ],
   "source": [
    "len(ts)"
   ]
  },
  {
   "cell_type": "code",
   "execution_count": 44,
   "id": "c06542c0",
   "metadata": {},
   "outputs": [],
   "source": [
    "train = ts[:20]\n",
    "test = ts[20:]"
   ]
  },
  {
   "cell_type": "markdown",
   "id": "92d83500",
   "metadata": {},
   "source": [
    "## Building the ARIMA MODEL "
   ]
  },
  {
   "cell_type": "code",
   "execution_count": 40,
   "id": "8b08e9d7",
   "metadata": {},
   "outputs": [],
   "source": [
    "#Declaring variables\n",
    "orders1 = []   #List to order the orders from (0,8) in form of (1,0,1) etc...\n",
    "rmse = []      #List to create the corresponding \n",
    "#mean_squared_error to map to the orders, usually we take the order with the least rmse for better accuracy\n",
    "\n",
    "p=range(0,8)    #These are hyerparameters that generate the order for prediction in p,d,q from 0,8\n",
    "q=range(0,8)\n",
    "d=range(0,2)    #differencing range usually runs from 0,2 range\n",
    "\n",
    "import itertools"
   ]
  },
  {
   "cell_type": "code",
   "execution_count": 42,
   "id": "6370897f",
   "metadata": {},
   "outputs": [
    {
     "data": {
      "text/plain": [
       "128"
      ]
     },
     "execution_count": 42,
     "metadata": {},
     "output_type": "execute_result"
    }
   ],
   "source": [
    "pdq_com = list(itertools.product(p,d,q))\n",
    "len(pdq_com)"
   ]
  },
  {
   "cell_type": "code",
   "execution_count": 45,
   "id": "64a50b03",
   "metadata": {},
   "outputs": [],
   "source": [
    "for pdq in pdq_com:\n",
    "    try:\n",
    "        model = ARIMA(train,order=(pdq)).fit()\n",
    "        pred = model.predict(start=len(train), end=(len(ts)-1))\n",
    "        error = np.sqrt(mean_squared_error(test,pred))\n",
    "        orders1.append(pdq) #appends the created pdq order eg (0,0,0)....\n",
    "        rmse.append(error) #appends the mean squared errors to the hyperparameter pdq orders\n",
    "    except:\n",
    "        continue"
   ]
  },
  {
   "cell_type": "code",
   "execution_count": 46,
   "id": "f0d2c258",
   "metadata": {},
   "outputs": [],
   "source": [
    "rmse_res = pd.DataFrame(index=orders1,data=rmse,columns=['RMSE']) #"
   ]
  },
  {
   "cell_type": "code",
   "execution_count": 47,
   "id": "5b4f98b7",
   "metadata": {},
   "outputs": [],
   "source": [
    "rmse_res.to_csv('D:/rmse_oil.csv')"
   ]
  },
  {
   "cell_type": "code",
   "execution_count": 67,
   "id": "8c4dd909",
   "metadata": {},
   "outputs": [
    {
     "data": {
      "text/html": [
       "<div>\n",
       "<style scoped>\n",
       "    .dataframe tbody tr th:only-of-type {\n",
       "        vertical-align: middle;\n",
       "    }\n",
       "\n",
       "    .dataframe tbody tr th {\n",
       "        vertical-align: top;\n",
       "    }\n",
       "\n",
       "    .dataframe thead th {\n",
       "        text-align: right;\n",
       "    }\n",
       "</style>\n",
       "<table border=\"1\" class=\"dataframe\">\n",
       "  <thead>\n",
       "    <tr style=\"text-align: right;\">\n",
       "      <th></th>\n",
       "      <th>Unnamed: 0</th>\n",
       "      <th>RMSE</th>\n",
       "    </tr>\n",
       "  </thead>\n",
       "  <tbody>\n",
       "    <tr>\n",
       "      <th>0</th>\n",
       "      <td>(0, 0, 0)</td>\n",
       "      <td>11777.257965</td>\n",
       "    </tr>\n",
       "    <tr>\n",
       "      <th>1</th>\n",
       "      <td>(0, 0, 1)</td>\n",
       "      <td>11716.168372</td>\n",
       "    </tr>\n",
       "    <tr>\n",
       "      <th>2</th>\n",
       "      <td>(0, 0, 2)</td>\n",
       "      <td>11097.550660</td>\n",
       "    </tr>\n",
       "    <tr>\n",
       "      <th>3</th>\n",
       "      <td>(0, 0, 3)</td>\n",
       "      <td>11306.544160</td>\n",
       "    </tr>\n",
       "    <tr>\n",
       "      <th>4</th>\n",
       "      <td>(0, 0, 4)</td>\n",
       "      <td>10483.596818</td>\n",
       "    </tr>\n",
       "  </tbody>\n",
       "</table>\n",
       "</div>"
      ],
      "text/plain": [
       "  Unnamed: 0          RMSE\n",
       "0  (0, 0, 0)  11777.257965\n",
       "1  (0, 0, 1)  11716.168372\n",
       "2  (0, 0, 2)  11097.550660\n",
       "3  (0, 0, 3)  11306.544160\n",
       "4  (0, 0, 4)  10483.596818"
      ]
     },
     "execution_count": 67,
     "metadata": {},
     "output_type": "execute_result"
    }
   ],
   "source": [
    "pd.read_csv('D:/rmse_oil.csv').head()  #This is the appended list we select the order with mininum RMSE error"
   ]
  },
  {
   "cell_type": "code",
   "execution_count": 48,
   "id": "752c02b8",
   "metadata": {},
   "outputs": [],
   "source": [
    "#Fitting and predicting the model using the lowest mean_squared error combination\n",
    "\n",
    "#for this order the mininum was (3,0,4) followed by (7,0,0), (6,0,4) and (1,0,0) \n",
    "#these are orders i had to fit in each prediction thats why the graphs are different and others are similar\n",
    "models = ARIMA(train,order=(3,0,4)).fit()"
   ]
  },
  {
   "cell_type": "code",
   "execution_count": 50,
   "id": "79e1671a",
   "metadata": {},
   "outputs": [
    {
     "name": "stdout",
     "output_type": "stream",
     "text": [
      "                               ARMA Model Results                               \n",
      "================================================================================\n",
      "Dep. Variable:     Crude_oil_production   No. Observations:                   20\n",
      "Model:                       ARMA(3, 4)   Log Likelihood                -176.785\n",
      "Method:                         css-mle   S.D. of innovations           1216.964\n",
      "Date:                  Mon, 09 Jan 2023   AIC                            371.570\n",
      "Time:                          21:56:06   BIC                            380.532\n",
      "Sample:                      12-31-1992   HQIC                           373.319\n",
      "                           - 12-31-2011                                         \n",
      "==============================================================================================\n",
      "                                 coef    std err          z      P>|z|      [0.025      0.975]\n",
      "----------------------------------------------------------------------------------------------\n",
      "const                       7.636e+04        nan        nan        nan         nan         nan\n",
      "ar.L1.Crude_oil_production     1.4672        nan        nan        nan         nan         nan\n",
      "ar.L2.Crude_oil_production     0.0633        nan        nan        nan         nan         nan\n",
      "ar.L3.Crude_oil_production    -0.5315        nan        nan        nan         nan         nan\n",
      "ma.L1.Crude_oil_production    -0.5080      0.287     -1.768      0.077      -1.071       0.055\n",
      "ma.L2.Crude_oil_production    -0.5002      0.310     -1.612      0.107      -1.108       0.108\n",
      "ma.L3.Crude_oil_production    -0.7796      0.109     -7.126      0.000      -0.994      -0.565\n",
      "ma.L4.Crude_oil_production     0.7878      0.283      2.789      0.005       0.234       1.341\n",
      "                                    Roots                                    \n",
      "=============================================================================\n",
      "                  Real          Imaginary           Modulus         Frequency\n",
      "-----------------------------------------------------------------------------\n",
      "AR.1            0.9998           -0.0267j            1.0002           -0.0042\n",
      "AR.2            0.9998           +0.0267j            1.0002            0.0042\n",
      "AR.3           -1.8807           -0.0000j            1.8807           -0.5000\n",
      "MA.1           -0.6399           -0.7685j            1.0000           -0.3605\n",
      "MA.2           -0.6399           +0.7685j            1.0000            0.3605\n",
      "MA.3            1.0000           -0.0000j            1.0000           -0.0000\n",
      "MA.4            1.2693           -0.0000j            1.2693           -0.0000\n",
      "-----------------------------------------------------------------------------\n"
     ]
    }
   ],
   "source": [
    "print(models.summary())"
   ]
  },
  {
   "cell_type": "code",
   "execution_count": 51,
   "id": "65642683",
   "metadata": {},
   "outputs": [
    {
     "data": {
      "text/plain": [
       "2012-12-31    68899.320647\n",
       "2013-12-31    69420.106582\n",
       "2014-12-31    69749.670980\n",
       "2015-12-31    70720.267999\n",
       "2016-12-31    71356.099946\n",
       "2017-12-31    72175.205822\n",
       "2018-12-31    72901.303368\n",
       "2019-12-31    73680.471924\n",
       "2020-12-31    74434.206219\n",
       "2021-12-31    75203.417685\n",
       "2022-12-31    75965.519225\n",
       "2023-12-31    76731.687324\n",
       "2024-12-31    77495.145458\n",
       "2025-12-31    78258.663954\n",
       "2026-12-31    79019.938080\n",
       "2027-12-31    79779.363543\n",
       "2028-12-31    80535.902615\n",
       "2029-12-31    81289.282826\n",
       "2030-12-31    82038.828438\n",
       "2031-12-31    82784.082366\n",
       "2032-12-31    83524.476067\n",
       "2033-12-31    84259.505642\n",
       "2034-12-31    84988.638771\n",
       "2035-12-31    85711.364765\n",
       "2036-12-31    86427.168515\n",
       "2037-12-31    87135.544901\n",
       "2038-12-31    87835.991681\n",
       "2039-12-31    88528.013819\n",
       "Freq: A-DEC, dtype: float64"
      ]
     },
     "execution_count": 51,
     "metadata": {},
     "output_type": "execute_result"
    }
   ],
   "source": [
    "pred = models.predict(start=len(train), end=(len(ts)+20))\n",
    "pred"
   ]
  },
  {
   "cell_type": "code",
   "execution_count": 52,
   "id": "e1b211c9",
   "metadata": {},
   "outputs": [
    {
     "data": {
      "image/png": "[encoded data removed]",
      "text/plain": [
       "<Figure size 432x288 with 1 Axes>"
      ]
     },
     "metadata": {
      "needs_background": "light"
     },
     "output_type": "display_data"
    }
   ],
   "source": [
    "plt.plot(train,color='red')\n",
    "plt.plot(test,color='blue')\n",
    "plt.plot(pred, color='green')\n",
    "plt.show()"
   ]
  },
  {
   "cell_type": "code",
   "execution_count": 54,
   "id": "87c71ccf",
   "metadata": {},
   "outputs": [
    {
     "name": "stdout",
     "output_type": "stream",
     "text": [
      "                               ARMA Model Results                               \n",
      "================================================================================\n",
      "Dep. Variable:     Crude_oil_production   No. Observations:                   20\n",
      "Model:                       ARMA(7, 0)   Log Likelihood                -174.102\n",
      "Method:                         css-mle   S.D. of innovations           1228.079\n",
      "Date:                  Mon, 09 Jan 2023   AIC                            366.204\n",
      "Time:                          21:58:42   BIC                            375.165\n",
      "Sample:                      12-31-1992   HQIC                           367.953\n",
      "                           - 12-31-2011                                         \n",
      "==============================================================================================\n",
      "                                 coef    std err          z      P>|z|      [0.025      0.975]\n",
      "----------------------------------------------------------------------------------------------\n",
      "const                       9.167e+04        nan        nan        nan         nan         nan\n",
      "ar.L1.Crude_oil_production     1.0970      0.184      5.971      0.000       0.737       1.457\n",
      "ar.L2.Crude_oil_production    -0.1271      0.314     -0.405      0.685      -0.742       0.488\n",
      "ar.L3.Crude_oil_production     0.2266      0.367      0.618      0.537      -0.492       0.945\n",
      "ar.L4.Crude_oil_production    -0.1464      0.378     -0.388      0.698      -0.887       0.594\n",
      "ar.L5.Crude_oil_production     0.0178      0.377      0.047      0.962      -0.722       0.757\n",
      "ar.L6.Crude_oil_production     0.0624      0.365      0.171      0.864      -0.654       0.778\n",
      "ar.L7.Crude_oil_production    -0.1318      0.237     -0.557      0.577      -0.595       0.332\n",
      "                                    Roots                                    \n",
      "=============================================================================\n",
      "                  Real          Imaginary           Modulus         Frequency\n",
      "-----------------------------------------------------------------------------\n",
      "AR.1            1.0031           -0.0000j            1.0031           -0.0000\n",
      "AR.2            1.1728           -0.0000j            1.1728           -0.0000\n",
      "AR.3            0.6347           -1.3247j            1.4689           -0.1789\n",
      "AR.4            0.6347           +1.3247j            1.4689            0.1789\n",
      "AR.5           -0.6662           -1.1744j            1.3502           -0.3321\n",
      "AR.6           -0.6662           +1.1744j            1.3502            0.3321\n",
      "AR.7           -1.6394           -0.0000j            1.6394           -0.5000\n",
      "-----------------------------------------------------------------------------\n"
     ]
    }
   ],
   "source": [
    "#Using order (7,0,0)\n",
    "models_1 = ARIMA(train,order=(7,0,0)).fit()\n",
    "print(models_1.summary())"
   ]
  },
  {
   "cell_type": "code",
   "execution_count": 55,
   "id": "a1034af6",
   "metadata": {},
   "outputs": [
    {
     "data": {
      "text/plain": [
       "2012-12-31    66617.112886\n",
       "2013-12-31    66938.960670\n",
       "2014-12-31    67232.643878\n",
       "2015-12-31    67229.050052\n",
       "2016-12-31    67561.496642\n",
       "2017-12-31    67736.615642\n",
       "2018-12-31    67786.312216\n",
       "2019-12-31    67949.331154\n",
       "2020-12-31    68088.720365\n",
       "2021-12-31    68173.517171\n",
       "2022-12-31    68302.827914\n",
       "2023-12-31    68409.627271\n",
       "2024-12-31    68492.083481\n",
       "2025-12-31    68591.959021\n",
       "2026-12-31    68685.039481\n",
       "2027-12-31    68766.728122\n",
       "2028-12-31    68853.867886\n",
       "2029-12-31    68936.641183\n",
       "2030-12-31    69014.101951\n",
       "2031-12-31    69093.367567\n",
       "2032-12-31    69170.578448\n",
       "2033-12-31    69245.022545\n",
       "2034-12-31    69319.643347\n",
       "2035-12-31    69392.994426\n",
       "2036-12-31    69464.879921\n",
       "2037-12-31    69536.540410\n",
       "2038-12-31    69607.411437\n",
       "2039-12-31    69677.400012\n",
       "Freq: A-DEC, dtype: float64"
      ]
     },
     "execution_count": 55,
     "metadata": {},
     "output_type": "execute_result"
    }
   ],
   "source": [
    "pred_1 = models_1.predict(start=len(train), end=(len(ts)+20))\n",
    "pred_1"
   ]
  },
  {
   "cell_type": "code",
   "execution_count": 57,
   "id": "64fa63b2",
   "metadata": {},
   "outputs": [
    {
     "name": "stderr",
     "output_type": "stream",
     "text": [
      "No handles with labels found to put in legend.\n"
     ]
    },
    {
     "data": {
      "image/png": "[encoded data removed]",
      "text/plain": [
       "<Figure size 432x288 with 1 Axes>"
      ]
     },
     "metadata": {
      "needs_background": "light"
     },
     "output_type": "display_data"
    }
   ],
   "source": [
    "plt.plot(train,color='red')\n",
    "plt.plot(test,color='blue')\n",
    "plt.plot(pred_1, color='green')\n",
    "plt.legend()\n",
    "plt.show()"
   ]
  },
  {
   "cell_type": "code",
   "execution_count": 58,
   "id": "91bd93ad",
   "metadata": {},
   "outputs": [
    {
     "name": "stdout",
     "output_type": "stream",
     "text": [
      "                               ARMA Model Results                               \n",
      "================================================================================\n",
      "Dep. Variable:     Crude_oil_production   No. Observations:                   20\n",
      "Model:                       ARMA(6, 4)   Log Likelihood                -169.293\n",
      "Method:                         css-mle   S.D. of innovations            819.983\n",
      "Date:                  Mon, 09 Jan 2023   AIC                            362.587\n",
      "Time:                          22:02:49   BIC                            374.536\n",
      "Sample:                      12-31-1992   HQIC                           364.920\n",
      "                           - 12-31-2011                                         \n",
      "==============================================================================================\n",
      "                                 coef    std err          z      P>|z|      [0.025      0.975]\n",
      "----------------------------------------------------------------------------------------------\n",
      "const                         6.1e+04        nan        nan        nan         nan         nan\n",
      "ar.L1.Crude_oil_production     2.3017        nan        nan        nan         nan         nan\n",
      "ar.L2.Crude_oil_production    -2.6537        nan        nan        nan         nan         nan\n",
      "ar.L3.Crude_oil_production     2.8606        nan        nan        nan         nan         nan\n",
      "ar.L4.Crude_oil_production    -2.4212      0.020   -119.714      0.000      -2.461      -2.382\n",
      "ar.L5.Crude_oil_production     1.2215      0.049     24.985      0.000       1.126       1.317\n",
      "ar.L6.Crude_oil_production    -0.3446      0.026    -13.144      0.000      -0.396      -0.293\n",
      "ma.L1.Crude_oil_production    -1.7523      0.427     -4.104      0.000      -2.589      -0.915\n",
      "ma.L2.Crude_oil_production     1.5053        nan        nan        nan         nan         nan\n",
      "ma.L3.Crude_oil_production    -1.7524      0.640     -2.739      0.006      -3.006      -0.498\n",
      "ma.L4.Crude_oil_production     0.9995      0.591      1.691      0.091      -0.159       2.158\n",
      "                                    Roots                                    \n",
      "=============================================================================\n",
      "                  Real          Imaginary           Modulus         Frequency\n",
      "-----------------------------------------------------------------------------\n",
      "AR.1           -0.2161           -1.0081j            1.0310           -0.2836\n",
      "AR.2           -0.2161           +1.0081j            1.0310            0.2836\n",
      "AR.3            0.9886           -0.1546j            1.0006           -0.0247\n",
      "AR.4            0.9886           +0.1546j            1.0006            0.0247\n",
      "AR.5            0.9998           -1.3141j            1.6512           -0.1465\n",
      "AR.6            0.9998           +1.3141j            1.6512            0.1465\n",
      "MA.1           -0.1236           -0.9923j            1.0000           -0.2697\n",
      "MA.2           -0.1236           +0.9923j            1.0000            0.2697\n",
      "MA.3            1.0003           -0.0004j            1.0003           -0.0001\n",
      "MA.4            1.0003           +0.0004j            1.0003            0.0001\n",
      "-----------------------------------------------------------------------------\n"
     ]
    }
   ],
   "source": [
    "#Using order (6,0,4)\n",
    "models_2 = ARIMA(train,order=(6,0,4)).fit()\n",
    "print(models_2.summary())"
   ]
  },
  {
   "cell_type": "code",
   "execution_count": 59,
   "id": "8bc7b179",
   "metadata": {},
   "outputs": [
    {
     "data": {
      "text/plain": [
       "2012-12-31    67035.874146\n",
       "2013-12-31    67246.931518\n",
       "2014-12-31    67458.253126\n",
       "2015-12-31    67185.937266\n",
       "2016-12-31    66604.102657\n",
       "2017-12-31    66192.696842\n",
       "2018-12-31    65690.001436\n",
       "2019-12-31    64805.035665\n",
       "2020-12-31    63928.532552\n",
       "2021-12-31    63200.730440\n",
       "2022-12-31    62235.086206\n",
       "2023-12-31    61106.919217\n",
       "2024-12-31    60205.227917\n",
       "2025-12-31    59357.759488\n",
       "2026-12-31    58323.775488\n",
       "2027-12-31    57416.186603\n",
       "2028-12-31    56784.676531\n",
       "2029-12-31    56121.018460\n",
       "2030-12-31    55452.086382\n",
       "2031-12-31    55093.530848\n",
       "2032-12-31    54921.621657\n",
       "2033-12-31    54712.099479\n",
       "2034-12-31    54686.927792\n",
       "2035-12-31    54972.957114\n",
       "2036-12-31    55307.507164\n",
       "2037-12-31    55667.362255\n",
       "2038-12-31    56290.309659\n",
       "2039-12-31    57075.126726\n",
       "Freq: A-DEC, dtype: float64"
      ]
     },
     "execution_count": 59,
     "metadata": {},
     "output_type": "execute_result"
    }
   ],
   "source": [
    "pred_2 = models_2.predict(start=len(train), end=(len(ts)+20))\n",
    "pred_2"
   ]
  },
  {
   "cell_type": "code",
   "execution_count": 62,
   "id": "1c1bcb45",
   "metadata": {},
   "outputs": [
    {
     "name": "stderr",
     "output_type": "stream",
     "text": [
      "No handles with labels found to put in legend.\n"
     ]
    },
    {
     "data": {
      "image/png": "[encoded data removed]",
      "text/plain": [
       "<Figure size 432x288 with 1 Axes>"
      ]
     },
     "metadata": {
      "needs_background": "light"
     },
     "output_type": "display_data"
    }
   ],
   "source": [
    "plt.plot(train,color='red')\n",
    "plt.plot(test,color='blue')\n",
    "plt.plot(pred_1, color='green')\n",
    "plt.legend()\n",
    "plt.show()"
   ]
  },
  {
   "cell_type": "code",
   "execution_count": 63,
   "id": "0937d0d8",
   "metadata": {},
   "outputs": [
    {
     "name": "stdout",
     "output_type": "stream",
     "text": [
      "                               ARMA Model Results                               \n",
      "================================================================================\n",
      "Dep. Variable:     Crude_oil_production   No. Observations:                   20\n",
      "Model:                       ARMA(1, 0)   Log Likelihood                -173.308\n",
      "Method:                         css-mle   S.D. of innovations           1303.673\n",
      "Date:                  Mon, 09 Jan 2023   AIC                            352.615\n",
      "Time:                          22:06:12   BIC                            355.603\n",
      "Sample:                      12-31-1992   HQIC                           353.198\n",
      "                           - 12-31-2011                                         \n",
      "==============================================================================================\n",
      "                                 coef    std err          z      P>|z|      [0.025      0.975]\n",
      "----------------------------------------------------------------------------------------------\n",
      "const                       6.061e+04   5057.132     11.986      0.000    5.07e+04    7.05e+04\n",
      "ar.L1.Crude_oil_production     0.9732      0.035     27.972      0.000       0.905       1.041\n",
      "                                    Roots                                    \n",
      "=============================================================================\n",
      "                  Real          Imaginary           Modulus         Frequency\n",
      "-----------------------------------------------------------------------------\n",
      "AR.1            1.0275           +0.0000j            1.0275            0.0000\n",
      "-----------------------------------------------------------------------------\n"
     ]
    }
   ],
   "source": [
    "#Using order (1,0,0)\n",
    "models_3 = ARIMA(train,order=(1,0,0)).fit()\n",
    "print(models_3.summary())"
   ]
  },
  {
   "cell_type": "code",
   "execution_count": 64,
   "id": "75cf14c4",
   "metadata": {},
   "outputs": [
    {
     "data": {
      "text/plain": [
       "2012-12-31    66674.766856\n",
       "2013-12-31    66512.406796\n",
       "2014-12-31    66354.395865\n",
       "2015-12-31    66200.617563\n",
       "2016-12-31    66050.958510\n",
       "2017-12-31    65905.308364\n",
       "2018-12-31    65763.559740\n",
       "2019-12-31    65625.608127\n",
       "2020-12-31    65491.351815\n",
       "2021-12-31    65360.691818\n",
       "2022-12-31    65233.531802\n",
       "2023-12-31    65109.778014\n",
       "2024-12-31    64989.339210\n",
       "2025-12-31    64872.126592\n",
       "2026-12-31    64758.053742\n",
       "2027-12-31    64647.036554\n",
       "2028-12-31    64538.993176\n",
       "2029-12-31    64433.843948\n",
       "2030-12-31    64331.511347\n",
       "2031-12-31    64231.919922\n",
       "2032-12-31    64134.996247\n",
       "2033-12-31    64040.668860\n",
       "2034-12-31    63948.868214\n",
       "2035-12-31    63859.526627\n",
       "2036-12-31    63772.578226\n",
       "2037-12-31    63687.958907\n",
       "2038-12-31    63605.606281\n",
       "2039-12-31    63525.459628\n",
       "Freq: A-DEC, dtype: float64"
      ]
     },
     "execution_count": 64,
     "metadata": {},
     "output_type": "execute_result"
    }
   ],
   "source": [
    "pred_3 = models_3.predict(start=len(train), end=(len(ts)+20))\n",
    "pred_3"
   ]
  },
  {
   "cell_type": "code",
   "execution_count": 65,
   "id": "fc8fcd65",
   "metadata": {},
   "outputs": [
    {
     "name": "stderr",
     "output_type": "stream",
     "text": [
      "No handles with labels found to put in legend.\n"
     ]
    },
    {
     "data": {
      "image/png": "[encoded data removed]",
      "text/plain": [
       "<Figure size 432x288 with 1 Axes>"
      ]
     },
     "metadata": {
      "needs_background": "light"
     },
     "output_type": "display_data"
    }
   ],
   "source": [
    "plt.plot(train,color='red')\n",
    "plt.plot(test,color='blue')\n",
    "plt.plot(pred_3, color='green')\n",
    "plt.legend()\n",
    "plt.show()"
   ]
  },
  {
   "cell_type": "code",
   "execution_count": null,
   "id": "0774a78c",
   "metadata": {},
   "outputs": [],
   "source": []
  }
 ],
 "metadata": {
  "kernelspec": {
   "display_name": "Python 3",
   "language": "python",
   "name": "python3"
  },
  "language_info": {
   "codemirror_mode": {
    "name": "ipython",
    "version": 3
   },
   "file_extension": ".py",
   "mimetype": "text/x-python",
   "name": "python",
   "nbconvert_exporter": "python",
   "pygments_lexer": "ipython3",
   "version": "3.8.8"
  }
 },
 "nbformat": 4,
 "nbformat_minor": 5
}
